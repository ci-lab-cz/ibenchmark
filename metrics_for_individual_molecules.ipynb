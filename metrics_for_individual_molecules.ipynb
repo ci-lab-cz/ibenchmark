{
 "cells": [
  {
   "cell_type": "markdown",
   "metadata": {},
   "source": [
    "# This notebook gives some examples of calculating interpretation quality metrics for individual molecules. \n",
    "## Typically,  you might need to obtain whole dataset metrics, then please use ready script *metrics.py* (which will do all calculations under the hood and return dataset-aggregated metrics and per-molecule metrics too)\n",
    "\n"
   ]
  },
  {
   "cell_type": "code",
   "execution_count": 1,
   "metadata": {
    "scrolled": true
   },
   "outputs": [
    {
     "name": "stderr",
     "output_type": "stream",
     "text": [
      "RDKit WARNING: [15:54:22] Enabling RDKit 2019.09.3 jupyter extensions\n"
     ]
    }
   ],
   "source": [
    "import metrics as mt\n",
    "from rdkit import Chem\n",
    "from rdkit.Chem.Draw import SimilarityMaps\n",
    "import numpy as np"
   ]
  },
  {
   "cell_type": "code",
   "execution_count": 2,
   "metadata": {},
   "outputs": [],
   "source": [
    "# Load file with contributions"
   ]
  },
  {
   "cell_type": "code",
   "execution_count": 3,
   "metadata": {},
   "outputs": [],
   "source": [
    "contribs = mt.read_contrib(\"example_notebook_data/contrib_per_atom_dc.txt\")"
   ]
  },
  {
   "cell_type": "code",
   "execution_count": 4,
   "metadata": {
    "scrolled": false
   },
   "outputs": [
    {
     "data": {
      "text/html": [
       "<div>\n",
       "<style scoped>\n",
       "    .dataframe tbody tr th:only-of-type {\n",
       "        vertical-align: middle;\n",
       "    }\n",
       "\n",
       "    .dataframe tbody tr th {\n",
       "        vertical-align: top;\n",
       "    }\n",
       "\n",
       "    .dataframe thead th {\n",
       "        text-align: right;\n",
       "    }\n",
       "</style>\n",
       "<table border=\"1\" class=\"dataframe\">\n",
       "  <thead>\n",
       "    <tr style=\"text-align: right;\">\n",
       "      <th></th>\n",
       "      <th>molecule</th>\n",
       "      <th>atom_pred</th>\n",
       "      <th>full</th>\n",
       "      <th>contribution</th>\n",
       "      <th>atom</th>\n",
       "    </tr>\n",
       "  </thead>\n",
       "  <tbody>\n",
       "    <tr>\n",
       "      <th>0</th>\n",
       "      <td>CHEMBL100367</td>\n",
       "      <td>1.126174</td>\n",
       "      <td>1.083425</td>\n",
       "      <td>-0.042749</td>\n",
       "      <td>1.0</td>\n",
       "    </tr>\n",
       "    <tr>\n",
       "      <th>1</th>\n",
       "      <td>CHEMBL100367</td>\n",
       "      <td>1.113444</td>\n",
       "      <td>1.083425</td>\n",
       "      <td>-0.030019</td>\n",
       "      <td>24.0</td>\n",
       "    </tr>\n",
       "    <tr>\n",
       "      <th>2</th>\n",
       "      <td>CHEMBL100367</td>\n",
       "      <td>1.085988</td>\n",
       "      <td>1.083425</td>\n",
       "      <td>-0.002563</td>\n",
       "      <td>3.0</td>\n",
       "    </tr>\n",
       "    <tr>\n",
       "      <th>3</th>\n",
       "      <td>CHEMBL100367</td>\n",
       "      <td>1.003226</td>\n",
       "      <td>1.083425</td>\n",
       "      <td>0.080199</td>\n",
       "      <td>32.0</td>\n",
       "    </tr>\n",
       "    <tr>\n",
       "      <th>4</th>\n",
       "      <td>CHEMBL100367</td>\n",
       "      <td>1.089595</td>\n",
       "      <td>1.083425</td>\n",
       "      <td>-0.006170</td>\n",
       "      <td>18.0</td>\n",
       "    </tr>\n",
       "    <tr>\n",
       "      <th>...</th>\n",
       "      <td>...</td>\n",
       "      <td>...</td>\n",
       "      <td>...</td>\n",
       "      <td>...</td>\n",
       "      <td>...</td>\n",
       "    </tr>\n",
       "    <tr>\n",
       "      <th>149015</th>\n",
       "      <td>CHEMBL9994</td>\n",
       "      <td>1.936954</td>\n",
       "      <td>1.950375</td>\n",
       "      <td>0.013421</td>\n",
       "      <td>34.0</td>\n",
       "    </tr>\n",
       "    <tr>\n",
       "      <th>149016</th>\n",
       "      <td>CHEMBL9994</td>\n",
       "      <td>1.621082</td>\n",
       "      <td>1.950375</td>\n",
       "      <td>0.329293</td>\n",
       "      <td>32.0</td>\n",
       "    </tr>\n",
       "    <tr>\n",
       "      <th>149017</th>\n",
       "      <td>CHEMBL9994</td>\n",
       "      <td>1.795335</td>\n",
       "      <td>1.950375</td>\n",
       "      <td>0.155041</td>\n",
       "      <td>3.0</td>\n",
       "    </tr>\n",
       "    <tr>\n",
       "      <th>149018</th>\n",
       "      <td>CHEMBL9994</td>\n",
       "      <td>2.324879</td>\n",
       "      <td>1.950375</td>\n",
       "      <td>-0.374504</td>\n",
       "      <td>9.0</td>\n",
       "    </tr>\n",
       "    <tr>\n",
       "      <th>149019</th>\n",
       "      <td>CHEMBL9994</td>\n",
       "      <td>2.167283</td>\n",
       "      <td>1.950375</td>\n",
       "      <td>-0.216908</td>\n",
       "      <td>11.0</td>\n",
       "    </tr>\n",
       "  </tbody>\n",
       "</table>\n",
       "<p>149020 rows × 5 columns</p>\n",
       "</div>"
      ],
      "text/plain": [
       "            molecule  atom_pred      full  contribution  atom\n",
       "0       CHEMBL100367   1.126174  1.083425     -0.042749   1.0\n",
       "1       CHEMBL100367   1.113444  1.083425     -0.030019  24.0\n",
       "2       CHEMBL100367   1.085988  1.083425     -0.002563   3.0\n",
       "3       CHEMBL100367   1.003226  1.083425      0.080199  32.0\n",
       "4       CHEMBL100367   1.089595  1.083425     -0.006170  18.0\n",
       "...              ...        ...       ...           ...   ...\n",
       "149015    CHEMBL9994   1.936954  1.950375      0.013421  34.0\n",
       "149016    CHEMBL9994   1.621082  1.950375      0.329293  32.0\n",
       "149017    CHEMBL9994   1.795335  1.950375      0.155041   3.0\n",
       "149018    CHEMBL9994   2.324879  1.950375     -0.374504   9.0\n",
       "149019    CHEMBL9994   2.167283  1.950375     -0.216908  11.0\n",
       "\n",
       "[149020 rows x 5 columns]"
      ]
     },
     "execution_count": 4,
     "metadata": {},
     "output_type": "execute_result"
    }
   ],
   "source": [
    "contribs"
   ]
  },
  {
   "cell_type": "code",
   "execution_count": 4,
   "metadata": {},
   "outputs": [],
   "source": [
    "# Load ground thruth labels"
   ]
  },
  {
   "cell_type": "code",
   "execution_count": 5,
   "metadata": {},
   "outputs": [],
   "source": [
    "lbls = mt.read_lbls_from_sdf(\n",
    "        \"example_notebook_data/N_train_lbl.sdf\", lbls_field_name=\"lbls\", sep=\",\")"
   ]
  },
  {
   "cell_type": "code",
   "execution_count": 6,
   "metadata": {
    "scrolled": true
   },
   "outputs": [
    {
     "data": {
      "text/html": [
       "<div>\n",
       "<style scoped>\n",
       "    .dataframe tbody tr th:only-of-type {\n",
       "        vertical-align: middle;\n",
       "    }\n",
       "\n",
       "    .dataframe tbody tr th {\n",
       "        vertical-align: top;\n",
       "    }\n",
       "\n",
       "    .dataframe thead th {\n",
       "        text-align: right;\n",
       "    }\n",
       "</style>\n",
       "<table border=\"1\" class=\"dataframe\">\n",
       "  <thead>\n",
       "    <tr style=\"text-align: right;\">\n",
       "      <th></th>\n",
       "      <th>molecule</th>\n",
       "      <th>atom</th>\n",
       "      <th>lbl</th>\n",
       "    </tr>\n",
       "  </thead>\n",
       "  <tbody>\n",
       "    <tr>\n",
       "      <th>0</th>\n",
       "      <td>CHEMBL379993</td>\n",
       "      <td>1</td>\n",
       "      <td>0</td>\n",
       "    </tr>\n",
       "    <tr>\n",
       "      <th>1</th>\n",
       "      <td>CHEMBL379993</td>\n",
       "      <td>2</td>\n",
       "      <td>0</td>\n",
       "    </tr>\n",
       "    <tr>\n",
       "      <th>2</th>\n",
       "      <td>CHEMBL379993</td>\n",
       "      <td>3</td>\n",
       "      <td>0</td>\n",
       "    </tr>\n",
       "    <tr>\n",
       "      <th>3</th>\n",
       "      <td>CHEMBL379993</td>\n",
       "      <td>4</td>\n",
       "      <td>0</td>\n",
       "    </tr>\n",
       "    <tr>\n",
       "      <th>4</th>\n",
       "      <td>CHEMBL379993</td>\n",
       "      <td>5</td>\n",
       "      <td>0</td>\n",
       "    </tr>\n",
       "    <tr>\n",
       "      <th>...</th>\n",
       "      <td>...</td>\n",
       "      <td>...</td>\n",
       "      <td>...</td>\n",
       "    </tr>\n",
       "    <tr>\n",
       "      <th>173463</th>\n",
       "      <td>CHEMBL1460890</td>\n",
       "      <td>24</td>\n",
       "      <td>0</td>\n",
       "    </tr>\n",
       "    <tr>\n",
       "      <th>173464</th>\n",
       "      <td>CHEMBL1460890</td>\n",
       "      <td>25</td>\n",
       "      <td>0</td>\n",
       "    </tr>\n",
       "    <tr>\n",
       "      <th>173465</th>\n",
       "      <td>CHEMBL1460890</td>\n",
       "      <td>26</td>\n",
       "      <td>0</td>\n",
       "    </tr>\n",
       "    <tr>\n",
       "      <th>173466</th>\n",
       "      <td>CHEMBL1460890</td>\n",
       "      <td>27</td>\n",
       "      <td>0</td>\n",
       "    </tr>\n",
       "    <tr>\n",
       "      <th>173467</th>\n",
       "      <td>CHEMBL1460890</td>\n",
       "      <td>28</td>\n",
       "      <td>0</td>\n",
       "    </tr>\n",
       "  </tbody>\n",
       "</table>\n",
       "<p>173468 rows × 3 columns</p>\n",
       "</div>"
      ],
      "text/plain": [
       "             molecule  atom  lbl\n",
       "0        CHEMBL379993     1    0\n",
       "1        CHEMBL379993     2    0\n",
       "2        CHEMBL379993     3    0\n",
       "3        CHEMBL379993     4    0\n",
       "4        CHEMBL379993     5    0\n",
       "...               ...   ...  ...\n",
       "173463  CHEMBL1460890    24    0\n",
       "173464  CHEMBL1460890    25    0\n",
       "173465  CHEMBL1460890    26    0\n",
       "173466  CHEMBL1460890    27    0\n",
       "173467  CHEMBL1460890    28    0\n",
       "\n",
       "[173468 rows x 3 columns]"
      ]
     },
     "execution_count": 6,
     "metadata": {},
     "output_type": "execute_result"
    }
   ],
   "source": [
    "lbls"
   ]
  },
  {
   "cell_type": "code",
   "execution_count": null,
   "metadata": {},
   "outputs": [],
   "source": [
    "# Merge contributions with ground truth"
   ]
  },
  {
   "cell_type": "code",
   "execution_count": 7,
   "metadata": {},
   "outputs": [],
   "source": [
    "merged = mt.merge_lbls_contribs(contribs, lbls)"
   ]
  },
  {
   "cell_type": "code",
   "execution_count": 8,
   "metadata": {
    "scrolled": true
   },
   "outputs": [
    {
     "data": {
      "text/html": [
       "<div>\n",
       "<style scoped>\n",
       "    .dataframe tbody tr th:only-of-type {\n",
       "        vertical-align: middle;\n",
       "    }\n",
       "\n",
       "    .dataframe tbody tr th {\n",
       "        vertical-align: top;\n",
       "    }\n",
       "\n",
       "    .dataframe thead th {\n",
       "        text-align: right;\n",
       "    }\n",
       "</style>\n",
       "<table border=\"1\" class=\"dataframe\">\n",
       "  <thead>\n",
       "    <tr style=\"text-align: right;\">\n",
       "      <th></th>\n",
       "      <th>molecule</th>\n",
       "      <th>atom_pred</th>\n",
       "      <th>full</th>\n",
       "      <th>contribution</th>\n",
       "      <th>atom</th>\n",
       "      <th>lbl</th>\n",
       "    </tr>\n",
       "  </thead>\n",
       "  <tbody>\n",
       "    <tr>\n",
       "      <th>0</th>\n",
       "      <td>CHEMBL100367</td>\n",
       "      <td>1.126174</td>\n",
       "      <td>1.083425</td>\n",
       "      <td>-0.042749</td>\n",
       "      <td>1.0</td>\n",
       "      <td>0</td>\n",
       "    </tr>\n",
       "    <tr>\n",
       "      <th>1</th>\n",
       "      <td>CHEMBL100367</td>\n",
       "      <td>1.113444</td>\n",
       "      <td>1.083425</td>\n",
       "      <td>-0.030019</td>\n",
       "      <td>24.0</td>\n",
       "      <td>0</td>\n",
       "    </tr>\n",
       "    <tr>\n",
       "      <th>2</th>\n",
       "      <td>CHEMBL100367</td>\n",
       "      <td>1.085988</td>\n",
       "      <td>1.083425</td>\n",
       "      <td>-0.002563</td>\n",
       "      <td>3.0</td>\n",
       "      <td>0</td>\n",
       "    </tr>\n",
       "    <tr>\n",
       "      <th>3</th>\n",
       "      <td>CHEMBL100367</td>\n",
       "      <td>1.003226</td>\n",
       "      <td>1.083425</td>\n",
       "      <td>0.080199</td>\n",
       "      <td>32.0</td>\n",
       "      <td>0</td>\n",
       "    </tr>\n",
       "    <tr>\n",
       "      <th>4</th>\n",
       "      <td>CHEMBL100367</td>\n",
       "      <td>1.089595</td>\n",
       "      <td>1.083425</td>\n",
       "      <td>-0.006170</td>\n",
       "      <td>18.0</td>\n",
       "      <td>0</td>\n",
       "    </tr>\n",
       "    <tr>\n",
       "      <th>...</th>\n",
       "      <td>...</td>\n",
       "      <td>...</td>\n",
       "      <td>...</td>\n",
       "      <td>...</td>\n",
       "      <td>...</td>\n",
       "      <td>...</td>\n",
       "    </tr>\n",
       "    <tr>\n",
       "      <th>147780</th>\n",
       "      <td>CHEMBL9994</td>\n",
       "      <td>1.936954</td>\n",
       "      <td>1.950375</td>\n",
       "      <td>0.013421</td>\n",
       "      <td>34.0</td>\n",
       "      <td>0</td>\n",
       "    </tr>\n",
       "    <tr>\n",
       "      <th>147781</th>\n",
       "      <td>CHEMBL9994</td>\n",
       "      <td>1.621082</td>\n",
       "      <td>1.950375</td>\n",
       "      <td>0.329293</td>\n",
       "      <td>32.0</td>\n",
       "      <td>0</td>\n",
       "    </tr>\n",
       "    <tr>\n",
       "      <th>147782</th>\n",
       "      <td>CHEMBL9994</td>\n",
       "      <td>1.795335</td>\n",
       "      <td>1.950375</td>\n",
       "      <td>0.155041</td>\n",
       "      <td>3.0</td>\n",
       "      <td>0</td>\n",
       "    </tr>\n",
       "    <tr>\n",
       "      <th>147783</th>\n",
       "      <td>CHEMBL9994</td>\n",
       "      <td>2.324879</td>\n",
       "      <td>1.950375</td>\n",
       "      <td>-0.374504</td>\n",
       "      <td>9.0</td>\n",
       "      <td>0</td>\n",
       "    </tr>\n",
       "    <tr>\n",
       "      <th>147784</th>\n",
       "      <td>CHEMBL9994</td>\n",
       "      <td>2.167283</td>\n",
       "      <td>1.950375</td>\n",
       "      <td>-0.216908</td>\n",
       "      <td>11.0</td>\n",
       "      <td>0</td>\n",
       "    </tr>\n",
       "  </tbody>\n",
       "</table>\n",
       "<p>147785 rows × 6 columns</p>\n",
       "</div>"
      ],
      "text/plain": [
       "            molecule  atom_pred      full  contribution  atom  lbl\n",
       "0       CHEMBL100367   1.126174  1.083425     -0.042749   1.0    0\n",
       "1       CHEMBL100367   1.113444  1.083425     -0.030019  24.0    0\n",
       "2       CHEMBL100367   1.085988  1.083425     -0.002563   3.0    0\n",
       "3       CHEMBL100367   1.003226  1.083425      0.080199  32.0    0\n",
       "4       CHEMBL100367   1.089595  1.083425     -0.006170  18.0    0\n",
       "...              ...        ...       ...           ...   ...  ...\n",
       "147780    CHEMBL9994   1.936954  1.950375      0.013421  34.0    0\n",
       "147781    CHEMBL9994   1.621082  1.950375      0.329293  32.0    0\n",
       "147782    CHEMBL9994   1.795335  1.950375      0.155041   3.0    0\n",
       "147783    CHEMBL9994   2.324879  1.950375     -0.374504   9.0    0\n",
       "147784    CHEMBL9994   2.167283  1.950375     -0.216908  11.0    0\n",
       "\n",
       "[147785 rows x 6 columns]"
      ]
     },
     "execution_count": 8,
     "metadata": {},
     "output_type": "execute_result"
    }
   ],
   "source": [
    "merged"
   ]
  },
  {
   "cell_type": "code",
   "execution_count": null,
   "metadata": {},
   "outputs": [],
   "source": [
    "# Now we are ready to calculate metrics for individual molecules"
   ]
  },
  {
   "cell_type": "code",
   "execution_count": null,
   "metadata": {},
   "outputs": [],
   "source": [
    "## Let's calculate AUC. "
   ]
  },
  {
   "cell_type": "code",
   "execution_count": 9,
   "metadata": {},
   "outputs": [],
   "source": [
    "auc = mt.calc_auc(merged, which_lbls=\"positive\", contrib_col_name=\"contribution\")"
   ]
  },
  {
   "cell_type": "code",
   "execution_count": 10,
   "metadata": {
    "scrolled": true
   },
   "outputs": [
    {
     "data": {
      "text/plain": [
       "{'auc_pos': molecule\n",
       " CHEMBL100367    1.000000\n",
       " CHEMBL100414    0.965517\n",
       " CHEMBL100526    0.956897\n",
       " CHEMBL100758    1.000000\n",
       " CHEMBL10088     1.000000\n",
       "                   ...   \n",
       " CHEMBL990       1.000000\n",
       " CHEMBL99195     1.000000\n",
       " CHEMBL99358     0.979167\n",
       " CHEMBL99618     1.000000\n",
       " CHEMBL9994      1.000000\n",
       " Length: 5895, dtype: float64}"
      ]
     },
     "execution_count": 10,
     "metadata": {},
     "output_type": "execute_result"
    }
   ],
   "source": [
    "auc"
   ]
  },
  {
   "cell_type": "code",
   "execution_count": null,
   "metadata": {},
   "outputs": [],
   "source": [
    "## Lets compute another metric - top-n score, with variable n (indicated by n_list parameter=\"infinity\")"
   ]
  },
  {
   "cell_type": "code",
   "execution_count": 11,
   "metadata": {},
   "outputs": [],
   "source": [
    "top_n = mt.calc_top_n(merged, n_list=[np.inf], contrib_col_name=\"contribution\") "
   ]
  },
  {
   "cell_type": "code",
   "execution_count": 12,
   "metadata": {},
   "outputs": [
    {
     "data": {
      "text/plain": [
       "dict_keys(['select_top_n', 'variable_top_n'])"
      ]
     },
     "execution_count": 12,
     "metadata": {},
     "output_type": "execute_result"
    }
   ],
   "source": [
    "top_n.keys() # top-n is a dictionary with bunch of dataframes"
   ]
  },
  {
   "cell_type": "code",
   "execution_count": 13,
   "metadata": {
    "scrolled": false
   },
   "outputs": [
    {
     "data": {
      "text/plain": [
       "molecule\n",
       "CHEMBL100367    1.000000\n",
       "CHEMBL100414    0.666667\n",
       "CHEMBL100526    0.750000\n",
       "CHEMBL100758    1.000000\n",
       "CHEMBL10088     1.000000\n",
       "                  ...   \n",
       "CHEMBL990       1.000000\n",
       "CHEMBL99195     1.000000\n",
       "CHEMBL99358     0.666667\n",
       "CHEMBL99618     1.000000\n",
       "CHEMBL9994      1.000000\n",
       "Name: top_score, Length: 5895, dtype: float64"
      ]
     },
     "execution_count": 13,
     "metadata": {},
     "output_type": "execute_result"
    }
   ],
   "source": [
    "# this metric returns a bunch of dataframes(distionary), but we will need only the metric value itself\n",
    "\n",
    "\n",
    "top_n[\"variable_top_n\"]['top_score']"
   ]
  },
  {
   "cell_type": "code",
   "execution_count": null,
   "metadata": {},
   "outputs": [],
   "source": [
    "## Lets compute  top-n score, with fixed  n = 3 and n = 5 (indicated by n_list parameter)"
   ]
  },
  {
   "cell_type": "code",
   "execution_count": 14,
   "metadata": {},
   "outputs": [],
   "source": [
    "top_n = mt.calc_top_n(merged, n_list=[3,5], contrib_col_name=\"contribution\") "
   ]
  },
  {
   "cell_type": "code",
   "execution_count": 15,
   "metadata": {},
   "outputs": [
    {
     "data": {
      "text/plain": [
       "dict_keys(['select_top_sum3', 'top_sum3', 'select_top_sum5', 'top_sum5'])"
      ]
     },
     "execution_count": 15,
     "metadata": {},
     "output_type": "execute_result"
    }
   ],
   "source": [
    "top_n.keys() # top-n is a dictionary with bunch of dataframes"
   ]
  },
  {
   "cell_type": "code",
   "execution_count": 16,
   "metadata": {},
   "outputs": [
    {
     "data": {
      "text/plain": [
       "molecule\n",
       "CHEMBL100367    1.000000\n",
       "CHEMBL100414    0.666667\n",
       "CHEMBL100526    0.666667\n",
       "CHEMBL100758    1.000000\n",
       "CHEMBL10088     1.000000\n",
       "                  ...   \n",
       "CHEMBL990       1.000000\n",
       "CHEMBL99195     1.000000\n",
       "CHEMBL99358     0.666667\n",
       "CHEMBL99618     1.000000\n",
       "CHEMBL9994      1.000000\n",
       "Name: top_score, Length: 5895, dtype: float64"
      ]
     },
     "execution_count": 16,
     "metadata": {},
     "output_type": "execute_result"
    }
   ],
   "source": [
    "# this metric returns a bunch of dataframes (distionary), but we will need only the metric value itself\n",
    "\n",
    "\n",
    "top_n['top_sum3']['top_score']"
   ]
  },
  {
   "cell_type": "code",
   "execution_count": 17,
   "metadata": {},
   "outputs": [],
   "source": [
    "## Let's take a look at one molecule:"
   ]
  },
  {
   "cell_type": "code",
   "execution_count": 18,
   "metadata": {},
   "outputs": [],
   "source": [
    "mols = Chem.SDMolSupplier(\"example_notebook_data/N_train_lbl.sdf\")\n",
    "m = mols[0]"
   ]
  },
  {
   "cell_type": "code",
   "execution_count": 19,
   "metadata": {},
   "outputs": [],
   "source": [
    "nm = m.GetProp(\"_Name\")"
   ]
  },
  {
   "cell_type": "code",
   "execution_count": 20,
   "metadata": {},
   "outputs": [
    {
     "data": {
      "text/plain": [
       "'CHEMBL379993'"
      ]
     },
     "execution_count": 20,
     "metadata": {},
     "output_type": "execute_result"
    }
   ],
   "source": [
    "nm"
   ]
  },
  {
   "cell_type": "code",
   "execution_count": 21,
   "metadata": {
    "scrolled": false
   },
   "outputs": [
    {
     "data": {
      "image/png": "[encoded data removed]",
      "text/plain": [
       "<rdkit.Chem.rdchem.Mol at 0x7fca480fbf80>"
      ]
     },
     "execution_count": 21,
     "metadata": {},
     "output_type": "execute_result"
    }
   ],
   "source": [
    "m"
   ]
  },
  {
   "cell_type": "code",
   "execution_count": 22,
   "metadata": {},
   "outputs": [
    {
     "data": {
      "text/plain": [
       "0.9464285714285714"
      ]
     },
     "execution_count": 22,
     "metadata": {},
     "output_type": "execute_result"
    }
   ],
   "source": [
    "auc[\"auc_pos\"][nm] # look at AUC for this molecule, it's not perfect (<1)"
   ]
  },
  {
   "cell_type": "code",
   "execution_count": 23,
   "metadata": {
    "scrolled": true
   },
   "outputs": [
    {
     "data": {
      "text/plain": [
       "0.5"
      ]
     },
     "execution_count": 23,
     "metadata": {},
     "output_type": "execute_result"
    }
   ],
   "source": [
    "top_n['top_sum3']['top_score'][nm] # look at top-n score for this molecule, it's only 0.5"
   ]
  },
  {
   "cell_type": "code",
   "execution_count": null,
   "metadata": {},
   "outputs": [],
   "source": [
    "# Let's visualize contributions of atoms. Nitrogen has ground truth label \"1\". So contributions for nitrogens should be high"
   ]
  },
  {
   "cell_type": "code",
   "execution_count": 24,
   "metadata": {
    "scrolled": true
   },
   "outputs": [
    {
     "data": {
      "image/png": "[encoded data removed]",
      "text/plain": [
       "<Figure size 180x180 with 1 Axes>"
      ]
     },
     "metadata": {
      "needs_background": "light"
     },
     "output_type": "display_data"
    }
   ],
   "source": [
    "wt = {}\n",
    "for n,atom in enumerate(Chem.rdmolfiles.CanonicalRankAtoms(m)):\n",
    "                wt[atom] = contribs.loc[contribs.molecule==nm,\"contribution\"].iloc[n]\n",
    "sim_map = SimilarityMaps.GetSimilarityMapFromWeights(m,wt)"
   ]
  },
  {
   "cell_type": "markdown",
   "metadata": {},
   "source": [
    "## As we can see,  1 Nitrogen atom has the highest contribution (brightest green), but second highest contribution belongs to Carbon, so AUC is not perfect and top-n is 0.5."
   ]
  }
 ],
 "metadata": {
  "kernelspec": {
   "display_name": "Python 3",
   "language": "python",
   "name": "python3"
  },
  "language_info": {
   "codemirror_mode": {
    "name": "ipython",
    "version": 3
   },
   "file_extension": ".py",
   "mimetype": "text/x-python",
   "name": "python",
   "nbconvert_exporter": "python",
   "pygments_lexer": "ipython3",
   "version": "3.7.6"
  }
 },
 "nbformat": 4,
 "nbformat_minor": 4
}
